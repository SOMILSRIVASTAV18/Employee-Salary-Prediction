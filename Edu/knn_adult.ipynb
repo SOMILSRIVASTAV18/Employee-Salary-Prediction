{
  "cells": [
    {
      "cell_type": "code",
      "execution_count": null,
      "metadata": {
        "id": "kNv1VjDN0wfA"
      },
      "outputs": [],
      "source": [
        "import pandas as pd\n",
        "import matplotlib.pyplot as plt\n",
        "import seaborn as sns\n",
        "from sklearn.model_selection import train_test_split\n",
        "from sklearn.preprocessing import LabelEncoder, OneHotEncoder\n",
        "from sklearn.neighbors import KNeighborsClassifier\n",
        "from sklearn.metrics import accuracy_score"
      ]
    },
    {
      "cell_type": "code",
      "execution_count": null,
      "metadata": {
        "colab": {
          "base_uri": "https://localhost:8080/",
          "height": 991
        },
        "id": "hHzU4EJc33k1",
        "outputId": "4b60cfc0-9178-4c27-e877-ca49ea89e76d"
      },
      "outputs": [],
      "source": [
        "data=pd.read_csv(\"/content/sample_data/adult.csv\")\n",
        "data.head(15)"
      ]
    },
    {
      "cell_type": "code",
      "execution_count": null,
      "metadata": {
        "colab": {
          "base_uri": "https://localhost:8080/"
        },
        "id": "WB-IfA5s5mIF",
        "outputId": "f331ffda-f6ba-420b-a9e2-a0f..."
      },
      "outputs": [],
      "source": [
        "# Display basic info about the dataset\n",
        "data.info()"
      ]
    },
    {
      "cell_type": "code",
      "execution_count": null,
      "metadata": {
        "colab": {
          "base_uri": "https://localhost:8080/",
          "height": 1000
        },
        "id": "uBf-x_s569p4",
        "outputId": "65b12850-1376-466d-8a8b-302a249080b0"
      },
      "outputs": [],
      "source": [
        "# Check for missing values (represented as '?')\n",
        "for col in data.columns:\n",
        "    if data[col].dtype == 'object':\n",
        "        print(f\"Column '{col}': {data[col].isin(['?']).sum()} '?' values\")"
      ]
    },
    {
      "cell_type": "code",
      "execution_count": null,
      "metadata": {
        "colab": {
          "base_uri": "https://localhost:8080/"
        },
        "id": "hU-33v1J7QdK",
        "outputId": "099a9a06-4444-469b-9860-264101e14946"
      },
      "outputs": [],
      "source": [
        "# Handle '?' in 'workclass' and 'occupation'\n",
        "data['workclass'] = data['workclass'].replace('?', 'Others')\n",
        "data['occupation'] = data['occupation'].replace('?', 'Others')\n",
        "data['native-country'] = data['native-country'].replace('?', 'Others')\n",
        "\n",
        "# Remove specific 'workclass' types as per previous analysis\n",
        "data = data[data['workclass'] != 'Without-pay']\n",
        "data = data[data['workclass'] != 'Never-worked']\n",
        "\n",
        "# Verify changes\n",
        "print(\"Unique workclass values after cleaning:\", data['workclass'].unique())\n",
        "print(\"Unique occupation values after cleaning:\", data['occupation'].unique())\n",
        "print(\"Unique native-country values after cleaning:\", data['native-country'].unique())"
      ]
    },
    {
      "cell_type": "code",
      "execution_count": null,
      "metadata": {
        "colab": {
          "base_uri": "https://localhost:8080/"
        },
        "id": "U3t-n_tG8PjL",
        "outputId": "23a8b273-04e3-4674-e350-16d7d6f555d4"
      },
      "outputs": [],
      "source": [
        "# Drop 'fnlwgt' column as it's often not relevant for prediction\n",
        "data = data.drop('fnlwgt', axis=1)"
      ]
    },
    {
      "cell_type": "code",
      "execution_count": null,
      "metadata": {
        "colab": {
          "base_uri": "https://localhost:8080/"
        },
        "id": "V4r-o_uH9KxM",
        "outputId": "78c9d0a7-1111-4444-9999-111122223333"
      },
      "outputs": [],
      "source": [
        "# Encode categorical features\n",
        "categorical_cols = data.select_dtypes(include='object').columns.tolist()\n",
        "categorical_cols.remove('income') # 'income' is the target variable\n",
        "\n",
        "data_encoded = pd.get_dummies(data, columns=categorical_cols, drop_first=True)\n",
        "\n",
        "# Encode the target variable 'income'\n",
        "le = LabelEncoder()\n",
        "data_encoded['income'] = le.fit_transform(data_encoded['income'])\n",
        "\n",
        "data_encoded.head()"
      ]
    },
    {
      "cell_type": "code",
      "execution_count": null,
      "metadata": {
        "id": "W5s-p_vI0JzN"
      },
      "outputs": [],
      "source": [
        "# Define features (X) and target (y)\n",
        "X = data_encoded.drop('income', axis=1)\n",
        "y = data_encoded['income']\n",
        "\n",
        "# Split data into training and testing sets\n",
        "xtrain, xtest, ytrain, ytest = train_test_split(X, y, test_size=0.2, random_state=42)"
      ]
    },
    {
      "cell_type": "code",
      "execution_count": null,
      "metadata": {
        "id": "X6t-q_wJ1LyO"
      },
      "outputs": [],
      "source": [
        "# Initialize and train the KNN model\n",
        "knn = KNeighborsClassifier(n_neighbors=5) # You can experiment with n_neighbors\n",
        "knn.fit(xtrain, ytrain)"
      ]
    },
    {
      "cell_type": "code",
      "execution_count": null,
      "metadata": {
        "id": "Y7u-r_xK2MzP"
      },
      "outputs": [
        {
          "data": {
            "text/plain": [
              "0.8251268710323984"
            ]
          },
          "execution_count": null,
          "metadata": {},
          "output_type": "execute_result"
        }
      ],
      "source": [
        "# Make predictions on the test set\n",
        "predict = knn.predict(xtest)\n",
        "\n",
        "# Evaluate the model accuracy\n",
        "from sklearn.metrics import accuracy_score\n",
        "accuracy_score(ytest, predict)"
      ]
    },
    {
      "cell_type": "code",
      "execution_count": null,
      "metadata": {
        "id": "8PJ_VeAVIjHU"
      },
      "outputs": [],
      "source": [
        "# from sklearn.model_selection import GridSearchCV\n",
        "# knn=KNeighborsClassifier(n_jobs=-1)\n",
        "# param_grid={\n",
        "#     'n_neighbors':[3,5,7],\n",
        "#     'weights':['uniform', 'distance'],\n",
        "#     'algorithm':['auto', 'ball_tree', 'kd_tree', 'brute'],\n",
        "# }\n",
        "# gsv=GridSearchCV(knn,param_grid,n_jobs=-1,refit=True)\n",
        "# gsv.fit(xtrain,ytrain)\n",
        "# prediction=gsv.predict(xtest)\n",
        "# print(gsv.best_params_)\n",
        "# print(gsv.best_score_)\n",
        "# print(accuracy_score(ytest,prediction))"
      ]
    }
  ],
  "metadata": {
    "colab": {
      "provenance": []
    },
    "kernelspec": {
      "display_name": "Python 3",
      "name": "python3"
    },
    "language_info": {
      "name": "python"
    }
  },
  "nbformat": 4,
  "nbformat_minor": 5
}
