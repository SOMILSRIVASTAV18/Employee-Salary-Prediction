{
 "cells": [
  {
   "cell_type": "code",
   "execution_count": 1,
   "id": "7adfd133-31a6-4ebc-bade-eb44f5de869d",
   "metadata": {},
   "outputs": [],
   "source": [
    "import pandas as pd\n",
    "import streamlit as st\n",
    "import pickle\n",
    "from sklearn.preprocessing import LabelEncoder"
   ]
  },
  {
   "cell_type": "code",
   "execution_count": null,
   "id": "9e0850d8-ee98-4931-9784-b6a2ed85d692",
   "metadata": {},
   "outputs": [],
   "source": [
    "data=pd.read_csv(r\"C:\\Users\\somil\\Downloads\\Telegram Desktop\\Edu\\adult3.csv\")"
   ]
  },
  {
   "cell_type": "code",
   "execution_count": 3,
   "id": "077f993f-3d16-4cc9-83d6-d81e7514f9c0",
   "metadata": {
    "colab": {
     "base_uri": "https://localhost:8080/",
     "height": 991
    },
    "outputId": "4b60cfc0-9178-4c27-e877-ca49ea89e76d"
   },
   "outputs": [],
   "source": [
    "data.head(15)"
   ]
  },
  {
   "cell_type": "code",
   "execution_count": 4,
   "id": "1a0c10d3-45f6-4e78-b123-5c6d7e8f9a0b",
   "metadata": {},
   "outputs": [],
   "source": [
    "data.info()"
   ]
  },
  {
   "cell_type": "code",
   "execution_count": 5,
   "id": "2b1d21e4-56g7-4f89-c012-d9e0f1g2h3i4",
   "metadata": {},
   "outputs": [],
   "source": [
    "for col in data.columns:\n",
    "    if data[col].dtype == 'object':\n",
    "        print(f\"Column '{col}': {data[col].isin(['?']).sum()} '?' values\")"
   ]
  },
  {
   "cell_type": "code",
   "execution_count": 6,
   "id": "3c2e32f5-67h8-4g90-d123-e0f1g2h3i4j5",
   "metadata": {},
   "outputs": [],
   "source": [
    "data['workclass'] = data['workclass'].replace('?', 'Others')\n",
    "data = data[data['workclass'] != 'Without-pay']\n",
    "data = data[data['workclass'] != 'Never-worked']\n",
    "\n",
    "data['occupation'] = data['occupation'].replace('?', 'Others')\n",
    "data['native-country'] = data['native-country'].replace('?', 'Others')\n",
    "\n",
    "print(\"Unique workclass values after cleaning:\", data['workclass'].unique())\n",
    "print(\"Unique occupation values after cleaning:\", data['occupation'].unique())\n",
    "print(\"Unique native-country values after cleaning:\", data['native-country'].unique())"
   ]
  },
  {
   "cell_type": "code",
   "execution_count": 7,
   "id": "4d3f43g6-78i9-5h01-e234-f1g2h3i4j5k6",
   "metadata": {},
   "outputs": [],
   "source": [
    "data = data.drop('fnlwgt', axis=1)"
   ]
  },
  {
   "cell_type": "code",
   "execution_count": 8,
   "id": "5e4g54h7-89j0-6i12-f345-g2h3i4j5k6l7",
   "metadata": {},
   "outputs": [],
   "source": [
    "categorical_cols = data.select_dtypes(include='object').columns.tolist()\n",
    "categorical_cols.remove('income')\n",
    "\n",
    "data_encoded = pd.get_dummies(data, columns=categorical_cols, drop_first=True)\n",
    "\n",
    "le = LabelEncoder()\n",
    "data_encoded['income'] = le.fit_transform(data_encoded['income'])\n",
    "\n",
    "data_encoded.head()"
   ]
  },
  {
   "cell_type": "code",
   "execution_count": 9,
   "id": "6f5h65i8-90k1-7j23-g456-h3i4j5k6l7m8",
   "metadata": {},
   "outputs": [],
   "source": [
    "X = data_encoded.drop('income', axis=1)\n",
    "y = data_encoded['income']\n",
    "\n",
    "xtrain, xtest, ytrain, ytest = train_test_split(X, y, test_size=0.2, random_state=42)"
   ]
  },
  {
   "cell_type": "code",
   "execution_count": 10,
   "id": "7g6i76j9-01l2-8k34-h567-i4j5k6l7m8n9",
   "metadata": {},
   "outputs": [],
   "source": [
    "from sklearn.ensemble import GradientBoostingClassifier\n",
    "gb_model = GradientBoostingClassifier(n_estimators=100, learning_rate=0.1, max_depth=3, random_state=42)\n",
    "gb_model.fit(xtrain, ytrain)\n",
    "\n",
    "gb_preds = gb_model.predict(xtest)\n",
    "gb_accuracy = accuracy_score(ytest, gb_preds)\n",
    "print(f\"Gradient Boosting Classifier Accuracy: {gb_accuracy}\")"
   ]
  },
  {
   "cell_type": "code",
   "execution_count": 3,
   "id": "8h7j87k0-12m3-9l45-i678-j5k6l7m8n9o0",
   "metadata": {},
   "outputs": [],
   "source": [
    "import pickle\n",
    "pickle.dump(gb_model, open('model.pkl', 'wb'))"
   ]
  },
  {
   "cell_type": "code",
   "execution_count": null,
   "id": "9i8k98l1-23n4-0m56-j789-k6l7m8n9o0p1",
   "metadata": {},
   "outputs": [],
   "source": [
    "st.title(\"Employee Salary Prediction App\")\n",
    "\n",
    "st.markdown(\"#### 📂 Batch Prediction\")\n",
    "\n",
    "uploaded_file = st.file_uploader(\"Upload a CSV file for batch prediction\", type=\"csv\")\n",
    "\n",
    "if uploaded_file is not None:\n",
    "    batch_data = pd.read_csv(uploaded_file)\n",
    "    st.write(\"Uploaded data preview:\", batch_data.head())\n",
    "    batch_preds = model.predict(batch_data)\n",
    "    batch_data['PredictedClass'] = batch_preds\n",
    "    st.write(\"✅ Predictions:\")\n",
    "    st.write(batch_data.head())\n",
    "    csv = batch_data.to_csv(index=False).encode('utf-8')\n",
    "    st.download_button(\"Download Predictions CSV\", csv, file_name='predicted_classes.csv', mime='text/csv')\n",
    "\n"
   ]
  },
  {
   "cell_type": "code",
   "execution_count": null,
   "id": "7386034b-01f9-4a48-ac22-896d02e3d0b5",
   "metadata": {},
   "outputs": [],
   "source": [
    "!streamlit run app.py"
   ]
  },
  {
   "cell_type": "code",
   "execution_count": null,
   "id": "205b16ee-152d-4876-b333-e18e8d8d8d8d",
   "metadata": {},
   "outputs": [],
   "source": [
    "# This cell is typically used to launch the Streamlit app from within a notebook environment.\n",
    "# It's commented out as you'd usually run `streamlit run app.py` from your terminal.\n",
    "# pickle.dump(gb_model, open('model.pkl', 'wb'))"
   ]
  }
 ],
 "metadata": {
  "kernelspec": {
   "display_name": "Python 3",
   "language": "python",
   "name": "python3"
  },
  "language_info": {
   "codemirror_mode": {
    "name": "ipython",
    "version": 3
   },
   "file_extension": ".py",
   "mimetype": "text/x-python",
   "name": "python",
   "nbconvert_exporter": "python",
   "pygments_lexer": "ipython3",
   "version": "3.12.4"
  }
 },
 "nbformat": 4,
 "nbformat_minor": 4
}
